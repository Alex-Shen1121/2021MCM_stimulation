{
 "cells": [
  {
   "cell_type": "code",
   "execution_count": 1,
   "metadata": {},
   "outputs": [],
   "source": [
    "import pandas as pd\n",
    "import numpy as np\n",
    "import spacy\n",
    "import pandas as pd\n",
    "import scattertext as st\n",
    "from spacy.lang.en import English\n",
    "from textblob import TextBlob"
   ]
  },
  {
   "cell_type": "code",
   "execution_count": 2,
   "metadata": {},
   "outputs": [],
   "source": [
    "df = pd.read_excel('data/2021MCMProblemC_DataSet.xlsx')"
   ]
  },
  {
   "cell_type": "code",
   "execution_count": 3,
   "metadata": {},
   "outputs": [
    {
     "data": {
      "text/html": [
       "<div>\n",
       "<style scoped>\n",
       "    .dataframe tbody tr th:only-of-type {\n",
       "        vertical-align: middle;\n",
       "    }\n",
       "\n",
       "    .dataframe tbody tr th {\n",
       "        vertical-align: top;\n",
       "    }\n",
       "\n",
       "    .dataframe thead th {\n",
       "        text-align: right;\n",
       "    }\n",
       "</style>\n",
       "<table border=\"1\" class=\"dataframe\">\n",
       "  <thead>\n",
       "    <tr style=\"text-align: right;\">\n",
       "      <th></th>\n",
       "      <th>DetectionDate</th>\n",
       "      <th>date</th>\n",
       "      <th>Notes</th>\n",
       "      <th>Lab Status</th>\n",
       "      <th>label</th>\n",
       "      <th>LabComments</th>\n",
       "      <th>Latitude</th>\n",
       "      <th>Longitude</th>\n",
       "    </tr>\n",
       "  </thead>\n",
       "  <tbody>\n",
       "    <tr>\n",
       "      <th>0</th>\n",
       "      <td>2020-07-11</td>\n",
       "      <td>193</td>\n",
       "      <td></td>\n",
       "      <td>Negative ID</td>\n",
       "      <td>2</td>\n",
       "      <td>Western cicada killer.</td>\n",
       "      <td>47.450510</td>\n",
       "      <td>-120.359030</td>\n",
       "    </tr>\n",
       "    <tr>\n",
       "      <th>1</th>\n",
       "      <td>2020-08-07</td>\n",
       "      <td>220</td>\n",
       "      <td></td>\n",
       "      <td>Negative ID</td>\n",
       "      <td>2</td>\n",
       "      <td>Thanks for the submission. That was a Cicada k...</td>\n",
       "      <td>46.210088</td>\n",
       "      <td>-119.759287</td>\n",
       "    </tr>\n",
       "    <tr>\n",
       "      <th>2</th>\n",
       "      <td>2020-08-22</td>\n",
       "      <td>235</td>\n",
       "      <td></td>\n",
       "      <td>Negative ID</td>\n",
       "      <td>2</td>\n",
       "      <td>Thanks for the submission. That is a horntail ...</td>\n",
       "      <td>47.629840</td>\n",
       "      <td>-120.689450</td>\n",
       "    </tr>\n",
       "    <tr>\n",
       "      <th>3</th>\n",
       "      <td>2020-07-28</td>\n",
       "      <td>210</td>\n",
       "      <td></td>\n",
       "      <td>Negative ID</td>\n",
       "      <td>2</td>\n",
       "      <td>Thanks for the submission. That is a Cicada ki...</td>\n",
       "      <td>47.445464</td>\n",
       "      <td>-120.267607</td>\n",
       "    </tr>\n",
       "    <tr>\n",
       "      <th>4</th>\n",
       "      <td>2020-07-15</td>\n",
       "      <td>197</td>\n",
       "      <td></td>\n",
       "      <td>Negative ID</td>\n",
       "      <td>2</td>\n",
       "      <td>Cicada killer</td>\n",
       "      <td>47.143276</td>\n",
       "      <td>-119.852737</td>\n",
       "    </tr>\n",
       "  </tbody>\n",
       "</table>\n",
       "</div>"
      ],
      "text/plain": [
       "  DetectionDate  date Notes   Lab Status  label  \\\n",
       "0    2020-07-11   193        Negative ID      2   \n",
       "1    2020-08-07   220        Negative ID      2   \n",
       "2    2020-08-22   235        Negative ID      2   \n",
       "3    2020-07-28   210        Negative ID      2   \n",
       "4    2020-07-15   197        Negative ID      2   \n",
       "\n",
       "                                         LabComments   Latitude   Longitude  \n",
       "0                             Western cicada killer.  47.450510 -120.359030  \n",
       "1  Thanks for the submission. That was a Cicada k...  46.210088 -119.759287  \n",
       "2  Thanks for the submission. That is a horntail ...  47.629840 -120.689450  \n",
       "3  Thanks for the submission. That is a Cicada ki...  47.445464 -120.267607  \n",
       "4                                      Cicada killer  47.143276 -119.852737  "
      ]
     },
     "execution_count": 3,
     "metadata": {},
     "output_type": "execute_result"
    }
   ],
   "source": [
    "df.head()"
   ]
  },
  {
   "cell_type": "code",
   "execution_count": 4,
   "metadata": {},
   "outputs": [],
   "source": [
    "def func(longitude,latitude,month):\n",
    "    if (latitude + 112.38)**2+(longitude-40.077)**2<=180:\n",
    "        if month in [8,9,10,11,12,1]:\n",
    "            return 1\n",
    "    if (latitude + 89.64)**2+(longitude-33.94)**2<=136.25 or (latitude + 92.22)**2+(longitude-44.55)**2<=101:\n",
    "        if month in [3,4,5,6,7,2]:\n",
    "            return 1\n",
    "    return 0"
   ]
  },
  {
   "cell_type": "code",
   "execution_count": 5,
   "metadata": {},
   "outputs": [],
   "source": [
    "df['notes_polarity'] = df.apply(lambda x: TextBlob(x.Notes).sentiment.polarity, axis=1)\n",
    "df['notes_subjectivity'] = df.apply(lambda x: TextBlob(x.Notes).sentiment.subjectivity, axis=1)\n",
    "df['comments_polarity'] = df.apply(lambda x: TextBlob(x.LabComments).sentiment.polarity, axis=1)\n",
    "df['comments_subjectivity'] = df.apply(lambda x: TextBlob(x.LabComments).sentiment.subjectivity, axis=1)\n",
    "df['best_season'] = df.apply(lambda x:func(x.Latitude,x.Longitude,x.DetectionDate.month),axis=1)"
   ]
  },
  {
   "cell_type": "code",
   "execution_count": null,
   "metadata": {},
   "outputs": [],
   "source": [
    "df=df.drop(columns=['DetectionDate','Notes','Lab Status','LabComments'])"
   ]
  },
  {
   "cell_type": "code",
   "execution_count": null,
   "metadata": {},
   "outputs": [],
   "source": [
    "df.to_csv('processed_data.csv',index=False)"
   ]
  },
  {
   "cell_type": "code",
   "execution_count": null,
   "metadata": {},
   "outputs": [],
   "source": [
    "test = df[df['label']=='1'].drop(columns=['label'])\n",
    "test.to_csv('test_data.csv',index=False)"
   ]
  }
 ],
 "metadata": {
  "interpreter": {
   "hash": "2b38f256b5e5cfcb08c8fab1bb2c0ed1d264b1b0baf1af9aa926f047321c09a2"
  },
  "kernelspec": {
   "display_name": "Python 3.9.7 64-bit ('base': conda)",
   "language": "python",
   "name": "python3"
  },
  "language_info": {
   "codemirror_mode": {
    "name": "ipython",
    "version": 3
   },
   "file_extension": ".py",
   "mimetype": "text/x-python",
   "name": "python",
   "nbconvert_exporter": "python",
   "pygments_lexer": "ipython3",
   "version": "3.9.7"
  },
  "orig_nbformat": 4
 },
 "nbformat": 4,
 "nbformat_minor": 2
}

{
 "cells": [
  {
   "cell_type": "code",
   "execution_count": 74,
   "metadata": {},
   "outputs": [],
   "source": [
    "import pandas as pd\n",
    "import numpy as np\n",
    "import spacy\n",
    "import pandas as pd\n",
    "import scattertext as st\n",
    "from spacy.lang.en import English\n",
    "from textblob import TextBlob"
   ]
  },
  {
   "cell_type": "code",
   "execution_count": 75,
   "metadata": {},
   "outputs": [],
   "source": [
    "df = pd.read_excel('2021MCMProblemC_DataSet.xlsx',dtype='string')"
   ]
  },
  {
   "cell_type": "code",
   "execution_count": 76,
   "metadata": {},
   "outputs": [
    {
     "data": {
      "text/html": [
       "<div>\n",
       "<style scoped>\n",
       "    .dataframe tbody tr th:only-of-type {\n",
       "        vertical-align: middle;\n",
       "    }\n",
       "\n",
       "    .dataframe tbody tr th {\n",
       "        vertical-align: top;\n",
       "    }\n",
       "\n",
       "    .dataframe thead th {\n",
       "        text-align: right;\n",
       "    }\n",
       "</style>\n",
       "<table border=\"1\" class=\"dataframe\">\n",
       "  <thead>\n",
       "    <tr style=\"text-align: right;\">\n",
       "      <th></th>\n",
       "      <th>Detection Date</th>\n",
       "      <th>date</th>\n",
       "      <th>Notes</th>\n",
       "      <th>Lab Status</th>\n",
       "      <th>label</th>\n",
       "      <th>LabComments</th>\n",
       "      <th>Submission Date</th>\n",
       "      <th>Latitude</th>\n",
       "      <th>Longitude</th>\n",
       "    </tr>\n",
       "  </thead>\n",
       "  <tbody>\n",
       "    <tr>\n",
       "      <th>0</th>\n",
       "      <td>2020-04-07 00:00:00</td>\n",
       "      <td>98</td>\n",
       "      <td>was in my house in Spokane, WA</td>\n",
       "      <td>Negative ID</td>\n",
       "      <td>2</td>\n",
       "      <td>A paper wasp, Polistes dominula</td>\n",
       "      <td>2020-04-07 00:00:00</td>\n",
       "      <td>47.708791</td>\n",
       "      <td>-117.472206</td>\n",
       "    </tr>\n",
       "    <tr>\n",
       "      <th>1</th>\n",
       "      <td>2020-03-04 00:00:00</td>\n",
       "      <td>64</td>\n",
       "      <td>I am not sure what this is, but I saw this on ...</td>\n",
       "      <td>Negative ID</td>\n",
       "      <td>2</td>\n",
       "      <td>A species of ichneumonid wasp</td>\n",
       "      <td>2020-04-13 00:00:00</td>\n",
       "      <td>47.634119</td>\n",
       "      <td>-122.646627</td>\n",
       "    </tr>\n",
       "    <tr>\n",
       "      <th>2</th>\n",
       "      <td>2020-05-15 00:00:00</td>\n",
       "      <td>136</td>\n",
       "      <td>Specimen collected by citizen scientist and re...</td>\n",
       "      <td>Positive ID</td>\n",
       "      <td>3</td>\n",
       "      <td>Added by WSDA</td>\n",
       "      <td>2020-06-05 00:00:00</td>\n",
       "      <td>49.060215</td>\n",
       "      <td>-122.641648</td>\n",
       "    </tr>\n",
       "    <tr>\n",
       "      <th>3</th>\n",
       "      <td>2020-04-18 00:00:00</td>\n",
       "      <td>109</td>\n",
       "      <td>All black at least two inches long with visibl...</td>\n",
       "      <td>Negative ID</td>\n",
       "      <td>2</td>\n",
       "      <td>AGH are mostly orange colored. This sounds lik...</td>\n",
       "      <td>2020-04-18 00:00:00</td>\n",
       "      <td>48.874475</td>\n",
       "      <td>-122.58183</td>\n",
       "    </tr>\n",
       "    <tr>\n",
       "      <th>4</th>\n",
       "      <td>2020-07-23 00:00:00</td>\n",
       "      <td>205</td>\n",
       "      <td>Biggest bee I've ever seen</td>\n",
       "      <td>Unverified</td>\n",
       "      <td>1</td>\n",
       "      <td>Any of these?</td>\n",
       "      <td>2020-07-23 00:00:00</td>\n",
       "      <td>47.93348</td>\n",
       "      <td>-119.03591</td>\n",
       "    </tr>\n",
       "  </tbody>\n",
       "</table>\n",
       "</div>"
      ],
      "text/plain": [
       "        Detection Date date  \\\n",
       "0  2020-04-07 00:00:00   98   \n",
       "1  2020-03-04 00:00:00   64   \n",
       "2  2020-05-15 00:00:00  136   \n",
       "3  2020-04-18 00:00:00  109   \n",
       "4  2020-07-23 00:00:00  205   \n",
       "\n",
       "                                               Notes   Lab Status label  \\\n",
       "0                     was in my house in Spokane, WA  Negative ID     2   \n",
       "1  I am not sure what this is, but I saw this on ...  Negative ID     2   \n",
       "2  Specimen collected by citizen scientist and re...  Positive ID     3   \n",
       "3  All black at least two inches long with visibl...  Negative ID     2   \n",
       "4                         Biggest bee I've ever seen   Unverified     1   \n",
       "\n",
       "                                         LabComments      Submission Date  \\\n",
       "0                    A paper wasp, Polistes dominula  2020-04-07 00:00:00   \n",
       "1                      A species of ichneumonid wasp  2020-04-13 00:00:00   \n",
       "2                                      Added by WSDA  2020-06-05 00:00:00   \n",
       "3  AGH are mostly orange colored. This sounds lik...  2020-04-18 00:00:00   \n",
       "4                                      Any of these?  2020-07-23 00:00:00   \n",
       "\n",
       "    Latitude    Longitude  \n",
       "0  47.708791  -117.472206  \n",
       "1  47.634119  -122.646627  \n",
       "2  49.060215  -122.641648  \n",
       "3  48.874475   -122.58183  \n",
       "4   47.93348   -119.03591  "
      ]
     },
     "execution_count": 76,
     "metadata": {},
     "output_type": "execute_result"
    }
   ],
   "source": [
    "df.head()"
   ]
  },
  {
   "cell_type": "code",
   "execution_count": 77,
   "metadata": {},
   "outputs": [],
   "source": [
    "df['notes_polarity'] = df.apply(lambda x: TextBlob(x.Notes).sentiment.polarity, axis=1)\n",
    "df['notes_subjectivity'] = df.apply(lambda x: TextBlob(x.Notes).sentiment.subjectivity, axis=1)\n",
    "df['comments_polarity'] = df.apply(lambda x: TextBlob(x.LabComments).sentiment.polarity, axis=1)\n",
    "df['comments_subjectivity'] = df.apply(lambda x: TextBlob(x.LabComments).sentiment.subjectivity, axis=1)"
   ]
  },
  {
   "cell_type": "code",
   "execution_count": null,
   "metadata": {},
   "outputs": [],
   "source": [
    "df=df.drop(columns=['Detection Date','Notes','Lab Status','LabComments','Submission Date'])"
   ]
  },
  {
   "cell_type": "code",
   "execution_count": null,
   "metadata": {},
   "outputs": [],
   "source": [
    "df.to_csv('processed_data.csv',index=False)"
   ]
  },
  {
   "cell_type": "code",
   "execution_count": null,
   "metadata": {},
   "outputs": [],
   "source": [
    "test = df[df['label']=='1'].drop(columns=['label'])\n",
    "test.to_csv('test_data.csv',index=False)"
   ]
  }
 ],
 "metadata": {
  "interpreter": {
   "hash": "2b38f256b5e5cfcb08c8fab1bb2c0ed1d264b1b0baf1af9aa926f047321c09a2"
  },
  "kernelspec": {
   "display_name": "Python 3.9.7 64-bit ('base': conda)",
   "language": "python",
   "name": "python3"
  },
  "language_info": {
   "codemirror_mode": {
    "name": "ipython",
    "version": 3
   },
   "file_extension": ".py",
   "mimetype": "text/x-python",
   "name": "python",
   "nbconvert_exporter": "python",
   "pygments_lexer": "ipython3",
   "version": "3.9.7"
  },
  "orig_nbformat": 4
 },
 "nbformat": 4,
 "nbformat_minor": 2
}

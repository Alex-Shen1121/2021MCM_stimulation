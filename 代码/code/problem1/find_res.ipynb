{
 "cells": [
  {
   "cell_type": "code",
   "execution_count": 51,
   "metadata": {},
   "outputs": [],
   "source": [
    "import pandas as pd\n",
    "import numpy as np\n",
    "import datetime"
   ]
  },
  {
   "cell_type": "code",
   "execution_count": 52,
   "metadata": {},
   "outputs": [],
   "source": [
    "res = pd.read_csv('res.csv')"
   ]
  },
  {
   "cell_type": "code",
   "execution_count": 53,
   "metadata": {},
   "outputs": [],
   "source": [
    "res = res[res['label']>=3.75]"
   ]
  },
  {
   "cell_type": "code",
   "execution_count": 54,
   "metadata": {},
   "outputs": [
    {
     "data": {
      "text/plain": [
       "<AxesSubplot:xlabel='Longitude', ylabel='Latitude'>"
      ]
     },
     "execution_count": 54,
     "metadata": {},
     "output_type": "execute_result"
    },
    {
     "data": {
      "image/png": "[encoded data removed]",
      "text/plain": [
       "<Figure size 432x288 with 1 Axes>"
      ]
     },
     "metadata": {
      "needs_background": "light"
     },
     "output_type": "display_data"
    }
   ],
   "source": [
    "place = res[['Latitude','Longitude']]\n",
    "place.plot.scatter(x='Longitude',y='Latitude')"
   ]
  },
  {
   "cell_type": "code",
   "execution_count": 55,
   "metadata": {},
   "outputs": [
    {
     "name": "stderr",
     "output_type": "stream",
     "text": [
      "/var/folders/m0/dsy0kdw13rb2g65q1x0bqn_00000gn/T/ipykernel_70596/313847266.py:37: SettingWithCopyWarning: \n",
      "A value is trying to be set on a copy of a slice from a DataFrame.\n",
      "Try using .loc[row_indexer,col_indexer] = value instead\n",
      "\n",
      "See the caveats in the documentation: https://pandas.pydata.org/pandas-docs/stable/user_guide/indexing.html#returning-a-view-versus-a-copy\n",
      "  time['month']=time.apply(lambda x: d2m(x.date),axis=1)\n"
     ]
    },
    {
     "data": {
      "text/plain": [
       "month\n",
       "7     24\n",
       "8     12\n",
       "9     11\n",
       "6      6\n",
       "10     5\n",
       "5      2\n",
       "dtype: int64"
      ]
     },
     "execution_count": 55,
     "metadata": {},
     "output_type": "execute_result"
    }
   ],
   "source": [
    "def d2m(day):\n",
    "    if day in range(31):\n",
    "        return 1\n",
    "    day -= 31\n",
    "    if day in range(28):\n",
    "        return 2\n",
    "    day -= 28\n",
    "    if day in range(31):\n",
    "        return 3\n",
    "    day -= 31\n",
    "    if day in range(30):\n",
    "        return 4\n",
    "    day -= 30\n",
    "    if day in range(31):\n",
    "        return 5\n",
    "    day -= 31\n",
    "    if day in range(30):\n",
    "        return 6\n",
    "    day -= 30\n",
    "    if day in range(31):\n",
    "        return 7\n",
    "    day -= 31\n",
    "    if day in range(31):\n",
    "        return 8\n",
    "    day -= 31\n",
    "    if day in range(30):\n",
    "        return 9\n",
    "    day -= 30\n",
    "    if day in range(31):\n",
    "        return 10\n",
    "    day -= 31\n",
    "    if day in range(30):\n",
    "        return 11\n",
    "    day -= 30\n",
    "    return 12\n",
    "time = res[['date']]\n",
    "time['month']=time.apply(lambda x: d2m(x.date),axis=1)\n",
    "time.to_csv('time.csv')\n",
    "time.value_counts('month')"
   ]
  }
 ],
 "metadata": {
  "interpreter": {
   "hash": "2b38f256b5e5cfcb08c8fab1bb2c0ed1d264b1b0baf1af9aa926f047321c09a2"
  },
  "kernelspec": {
   "display_name": "Python 3.9.7 64-bit ('base': conda)",
   "language": "python",
   "name": "python3"
  },
  "language_info": {
   "codemirror_mode": {
    "name": "ipython",
    "version": 3
   },
   "file_extension": ".py",
   "mimetype": "text/x-python",
   "name": "python",
   "nbconvert_exporter": "python",
   "pygments_lexer": "ipython3",
   "version": "3.9.7"
  },
  "orig_nbformat": 4
 },
 "nbformat": 4,
 "nbformat_minor": 2
}

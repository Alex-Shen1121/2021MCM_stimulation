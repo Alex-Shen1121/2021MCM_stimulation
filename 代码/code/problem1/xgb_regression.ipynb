{
 "cells": [
  {
   "cell_type": "code",
   "execution_count": 158,
   "metadata": {
    "ExecuteTime": {
     "end_time": "2020-04-01T10:11:53.573638Z",
     "start_time": "2020-04-01T10:11:52.954068Z"
    }
   },
   "outputs": [],
   "source": [
    "import os\n",
    "from sklearn.preprocessing import StandardScaler\n",
    "from sklearn.metrics import cohen_kappa_score, accuracy_score, mean_absolute_error, f1_score\n",
    "from sklearn.model_selection import GroupKFold, KFold, StratifiedKFold\n",
    "from tqdm import tqdm\n",
    "import xgboost as xgb\n",
    "import numpy as np\n",
    "import pandas as pd\n",
    "import math\n",
    "import matplotlib.pyplot as plt\n",
    "import seaborn as sns\n",
    "import warnings\n",
    "import gc\n",
    "from datetime import datetime\n",
    "\n",
    "warnings.filterwarnings('ignore')\n",
    "pd.set_option('display.max_columns', None)\n",
    "pd.set_option('display.max_rows', None)"
   ]
  },
  {
   "cell_type": "code",
   "execution_count": 159,
   "metadata": {
    "ExecuteTime": {
     "end_time": "2020-04-01T10:11:53.577557Z",
     "start_time": "2020-04-01T10:11:53.575435Z"
    }
   },
   "outputs": [],
   "source": [
    "seed = 2020"
   ]
  },
  {
   "cell_type": "code",
   "execution_count": 160,
   "metadata": {
    "ExecuteTime": {
     "end_time": "2020-04-01T10:11:54.013477Z",
     "start_time": "2020-04-01T10:11:53.578780Z"
    }
   },
   "outputs": [],
   "source": [
    "df_feature = pd.read_csv('processed_data.csv')"
   ]
  },
  {
   "cell_type": "code",
   "execution_count": 161,
   "metadata": {
    "ExecuteTime": {
     "end_time": "2020-04-01T10:11:54.555479Z",
     "start_time": "2020-04-01T10:11:54.014809Z"
    }
   },
   "outputs": [
    {
     "name": "stderr",
     "output_type": "stream",
     "text": [
      "  0%|          | 0/4424 [00:00<?, ?it/s]\n"
     ]
    }
   ],
   "source": [
    "from sklearn.preprocessing import LabelEncoder\n",
    "for f in tqdm(df_feature.select_dtypes('object')):\n",
    "    lbl = LabelEncoder()\n",
    "    df_feature[f] = lbl.fit_transform(df_feature[f].astype(str))"
   ]
  },
  {
   "cell_type": "code",
   "execution_count": 162,
   "metadata": {
    "ExecuteTime": {
     "end_time": "2020-04-01T10:11:55.031052Z",
     "start_time": "2020-04-01T10:11:54.556693Z"
    }
   },
   "outputs": [],
   "source": [
    "df_test = df_feature[df_feature['label']==1].drop(columns=['label']).copy()\n",
    "df_train = df_feature.copy()"
   ]
  },
  {
   "cell_type": "code",
   "execution_count": 163,
   "metadata": {},
   "outputs": [
    {
     "data": {
      "text/html": [
       "<div>\n",
       "<style scoped>\n",
       "    .dataframe tbody tr th:only-of-type {\n",
       "        vertical-align: middle;\n",
       "    }\n",
       "\n",
       "    .dataframe tbody tr th {\n",
       "        vertical-align: top;\n",
       "    }\n",
       "\n",
       "    .dataframe thead th {\n",
       "        text-align: right;\n",
       "    }\n",
       "</style>\n",
       "<table border=\"1\" class=\"dataframe\">\n",
       "  <thead>\n",
       "    <tr style=\"text-align: right;\">\n",
       "      <th></th>\n",
       "      <th>date</th>\n",
       "      <th>Latitude</th>\n",
       "      <th>Longitude</th>\n",
       "      <th>notes_polarity</th>\n",
       "      <th>notes_subjectivity</th>\n",
       "      <th>comments_polarity</th>\n",
       "      <th>comments_subjectivity</th>\n",
       "    </tr>\n",
       "  </thead>\n",
       "  <tbody>\n",
       "    <tr>\n",
       "      <th>4</th>\n",
       "      <td>205</td>\n",
       "      <td>47.933480</td>\n",
       "      <td>-119.035910</td>\n",
       "      <td>0.000000</td>\n",
       "      <td>0.000000</td>\n",
       "      <td>0.0</td>\n",
       "      <td>0.0</td>\n",
       "    </tr>\n",
       "    <tr>\n",
       "      <th>5</th>\n",
       "      <td>131</td>\n",
       "      <td>47.091118</td>\n",
       "      <td>-122.682562</td>\n",
       "      <td>0.371429</td>\n",
       "      <td>0.542857</td>\n",
       "      <td>0.0</td>\n",
       "      <td>0.5</td>\n",
       "    </tr>\n",
       "    <tr>\n",
       "      <th>12</th>\n",
       "      <td>129</td>\n",
       "      <td>47.685672</td>\n",
       "      <td>-122.386464</td>\n",
       "      <td>-0.200000</td>\n",
       "      <td>0.000000</td>\n",
       "      <td>0.0</td>\n",
       "      <td>0.0</td>\n",
       "    </tr>\n",
       "    <tr>\n",
       "      <th>63</th>\n",
       "      <td>129</td>\n",
       "      <td>48.767306</td>\n",
       "      <td>-122.448930</td>\n",
       "      <td>-0.225000</td>\n",
       "      <td>0.444444</td>\n",
       "      <td>0.0</td>\n",
       "      <td>0.0</td>\n",
       "    </tr>\n",
       "    <tr>\n",
       "      <th>64</th>\n",
       "      <td>121</td>\n",
       "      <td>47.581661</td>\n",
       "      <td>-121.987410</td>\n",
       "      <td>-0.097222</td>\n",
       "      <td>0.338889</td>\n",
       "      <td>0.0</td>\n",
       "      <td>0.0</td>\n",
       "    </tr>\n",
       "  </tbody>\n",
       "</table>\n",
       "</div>"
      ],
      "text/plain": [
       "    date   Latitude   Longitude  notes_polarity  notes_subjectivity  \\\n",
       "4    205  47.933480 -119.035910        0.000000            0.000000   \n",
       "5    131  47.091118 -122.682562        0.371429            0.542857   \n",
       "12   129  47.685672 -122.386464       -0.200000            0.000000   \n",
       "63   129  48.767306 -122.448930       -0.225000            0.444444   \n",
       "64   121  47.581661 -121.987410       -0.097222            0.338889   \n",
       "\n",
       "    comments_polarity  comments_subjectivity  \n",
       "4                 0.0                    0.0  \n",
       "5                 0.0                    0.5  \n",
       "12                0.0                    0.0  \n",
       "63                0.0                    0.0  \n",
       "64                0.0                    0.0  "
      ]
     },
     "execution_count": 163,
     "metadata": {},
     "output_type": "execute_result"
    }
   ],
   "source": [
    "df_test.head()"
   ]
  },
  {
   "cell_type": "code",
   "execution_count": 164,
   "metadata": {},
   "outputs": [
    {
     "data": {
      "text/html": [
       "<div>\n",
       "<style scoped>\n",
       "    .dataframe tbody tr th:only-of-type {\n",
       "        vertical-align: middle;\n",
       "    }\n",
       "\n",
       "    .dataframe tbody tr th {\n",
       "        vertical-align: top;\n",
       "    }\n",
       "\n",
       "    .dataframe thead th {\n",
       "        text-align: right;\n",
       "    }\n",
       "</style>\n",
       "<table border=\"1\" class=\"dataframe\">\n",
       "  <thead>\n",
       "    <tr style=\"text-align: right;\">\n",
       "      <th></th>\n",
       "      <th>date</th>\n",
       "      <th>label</th>\n",
       "      <th>Latitude</th>\n",
       "      <th>Longitude</th>\n",
       "      <th>notes_polarity</th>\n",
       "      <th>notes_subjectivity</th>\n",
       "      <th>comments_polarity</th>\n",
       "      <th>comments_subjectivity</th>\n",
       "    </tr>\n",
       "  </thead>\n",
       "  <tbody>\n",
       "    <tr>\n",
       "      <th>0</th>\n",
       "      <td>98</td>\n",
       "      <td>2</td>\n",
       "      <td>47.708791</td>\n",
       "      <td>-117.472206</td>\n",
       "      <td>0.000000</td>\n",
       "      <td>0.000000</td>\n",
       "      <td>0.0</td>\n",
       "      <td>0.0</td>\n",
       "    </tr>\n",
       "    <tr>\n",
       "      <th>1</th>\n",
       "      <td>64</td>\n",
       "      <td>2</td>\n",
       "      <td>47.634119</td>\n",
       "      <td>-122.646627</td>\n",
       "      <td>-0.250000</td>\n",
       "      <td>0.888889</td>\n",
       "      <td>0.0</td>\n",
       "      <td>0.0</td>\n",
       "    </tr>\n",
       "    <tr>\n",
       "      <th>2</th>\n",
       "      <td>136</td>\n",
       "      <td>3</td>\n",
       "      <td>49.060215</td>\n",
       "      <td>-122.641648</td>\n",
       "      <td>0.000000</td>\n",
       "      <td>0.000000</td>\n",
       "      <td>0.0</td>\n",
       "      <td>0.0</td>\n",
       "    </tr>\n",
       "    <tr>\n",
       "      <th>3</th>\n",
       "      <td>109</td>\n",
       "      <td>2</td>\n",
       "      <td>48.874475</td>\n",
       "      <td>-122.581830</td>\n",
       "      <td>-0.014683</td>\n",
       "      <td>0.345437</td>\n",
       "      <td>0.5</td>\n",
       "      <td>0.5</td>\n",
       "    </tr>\n",
       "    <tr>\n",
       "      <th>4</th>\n",
       "      <td>205</td>\n",
       "      <td>1</td>\n",
       "      <td>47.933480</td>\n",
       "      <td>-119.035910</td>\n",
       "      <td>0.000000</td>\n",
       "      <td>0.000000</td>\n",
       "      <td>0.0</td>\n",
       "      <td>0.0</td>\n",
       "    </tr>\n",
       "  </tbody>\n",
       "</table>\n",
       "</div>"
      ],
      "text/plain": [
       "   date  label   Latitude   Longitude  notes_polarity  notes_subjectivity  \\\n",
       "0    98      2  47.708791 -117.472206        0.000000            0.000000   \n",
       "1    64      2  47.634119 -122.646627       -0.250000            0.888889   \n",
       "2   136      3  49.060215 -122.641648        0.000000            0.000000   \n",
       "3   109      2  48.874475 -122.581830       -0.014683            0.345437   \n",
       "4   205      1  47.933480 -119.035910        0.000000            0.000000   \n",
       "\n",
       "   comments_polarity  comments_subjectivity  \n",
       "0                0.0                    0.0  \n",
       "1                0.0                    0.0  \n",
       "2                0.0                    0.0  \n",
       "3                0.5                    0.5  \n",
       "4                0.0                    0.0  "
      ]
     },
     "execution_count": 164,
     "metadata": {},
     "output_type": "execute_result"
    }
   ],
   "source": [
    "df_train.head()"
   ]
  },
  {
   "cell_type": "code",
   "execution_count": 165,
   "metadata": {
    "ExecuteTime": {
     "end_time": "2020-04-01T12:19:53.834236Z",
     "start_time": "2020-04-01T10:11:55.032861Z"
    },
    "scrolled": true
   },
   "outputs": [
    {
     "name": "stdout",
     "output_type": "stream",
     "text": [
      "\n",
      "Fold_1 Training ================================\n",
      "\n",
      "[0]\tvalidation_0-merror:0.09890\tvalidation_1-merror:0.13220\n",
      "[99]\tvalidation_0-merror:0.00085\tvalidation_1-merror:0.13446\n",
      "\n",
      "Fold_2 Training ================================\n",
      "\n",
      "[0]\tvalidation_0-merror:0.09861\tvalidation_1-merror:0.14689\n",
      "[99]\tvalidation_0-merror:0.00198\tvalidation_1-merror:0.14350\n",
      "\n",
      "Fold_3 Training ================================\n",
      "\n",
      "[0]\tvalidation_0-merror:0.09720\tvalidation_1-merror:0.12994\n",
      "[99]\tvalidation_0-merror:0.00141\tvalidation_1-merror:0.12994\n",
      "\n",
      "Fold_4 Training ================================\n",
      "\n",
      "[0]\tvalidation_0-merror:0.10257\tvalidation_1-merror:0.12655\n",
      "[99]\tvalidation_0-merror:0.00113\tvalidation_1-merror:0.12655\n",
      "\n",
      "Fold_5 Training ================================\n",
      "\n",
      "[0]\tvalidation_0-merror:0.09831\tvalidation_1-merror:0.12896\n",
      "[99]\tvalidation_0-merror:0.00169\tvalidation_1-merror:0.12670\n"
     ]
    }
   ],
   "source": [
    "ycol = 'label'\n",
    "feature_names = list(\n",
    "    filter(lambda x: x not in [ycol], df_train.columns))\n",
    "\n",
    "model = xgb.XGBClassifier(min_child_weight=6,max_depth=15,\n",
    "                                objective='multi:softmax',num_class=5)\n",
    "# model = xgb.XGBRegressor(num_leaves=64,\n",
    "#                          max_depth=8,\n",
    "#                          learning_rate=0.08,\n",
    "#                          n_estimators=10000000,\n",
    "#                          subsample=0.75,\n",
    "#                          feature_fraction=0.75,\n",
    "#                          reg_alpha=0.7,\n",
    "#                          reg_lambda=1.2,\n",
    "#                          random_state=seed,\n",
    "#                          metric=None,\n",
    "#                          tree_method='hist'\n",
    "#                          )\n",
    "oof = []\n",
    "prediction = df_test.copy()\n",
    "prediction['label'] = 0\n",
    "df_importance_list = []\n",
    "\n",
    "kfold = KFold(n_splits=5, shuffle=True, random_state=seed)\n",
    "for fold_id, (trn_idx, val_idx) in enumerate(kfold.split(df_train[feature_names])):\n",
    "    X_train = df_train.iloc[trn_idx][feature_names]\n",
    "    Y_train = df_train.iloc[trn_idx][ycol]\n",
    "\n",
    "    X_val = df_train.iloc[val_idx][feature_names]\n",
    "    Y_val = df_train.iloc[val_idx][ycol]\n",
    "\n",
    "    print('\\nFold_{} Training ================================\\n'.format(fold_id+1))\n",
    "\n",
    "    xgb_model = model.fit(X_train,\n",
    "                          Y_train,\n",
    "                          eval_set=[(X_train, Y_train), (X_val, Y_val)],\n",
    "                          verbose=1000,\n",
    "                          eval_metric=\"merror\",\n",
    "                          early_stopping_rounds=500)\n",
    "    # xgb_model = model.fit(X_train,\n",
    "    #                       Y_train,\n",
    "    #                       eval_set=[(X_train, Y_train), (X_val, Y_val)],\n",
    "    #                       verbose=1000,\n",
    "    #                       eval_metric='mae',\n",
    "    #                       early_stopping_rounds=500)\n",
    "\n",
    "    pred_val = xgb_model.predict(\n",
    "        X_val)\n",
    "    df_oof = df_train.iloc[val_idx].copy()\n",
    "    df_oof['label'] = pred_val\n",
    "    oof.append(df_oof)\n",
    "\n",
    "    pred_test = xgb_model.predict(\n",
    "        df_test[feature_names])\n",
    "    prediction['label'] += pred_test / 5\n",
    "\n",
    "    df_importance = pd.DataFrame({\n",
    "        'column': feature_names,\n",
    "        'importance': xgb_model.feature_importances_,\n",
    "    })\n",
    "    df_importance_list.append(df_importance)\n",
    "\n",
    "    del xgb_model, pred_val, pred_test, X_train, Y_train, X_val, Y_val\n",
    "    gc.collect()"
   ]
  },
  {
   "cell_type": "code",
   "execution_count": 166,
   "metadata": {
    "ExecuteTime": {
     "end_time": "2020-04-01T12:19:53.866498Z",
     "start_time": "2020-04-01T12:19:53.835713Z"
    },
    "scrolled": true
   },
   "outputs": [
    {
     "data": {
      "text/html": [
       "<div>\n",
       "<style scoped>\n",
       "    .dataframe tbody tr th:only-of-type {\n",
       "        vertical-align: middle;\n",
       "    }\n",
       "\n",
       "    .dataframe tbody tr th {\n",
       "        vertical-align: top;\n",
       "    }\n",
       "\n",
       "    .dataframe thead th {\n",
       "        text-align: right;\n",
       "    }\n",
       "</style>\n",
       "<table border=\"1\" class=\"dataframe\">\n",
       "  <thead>\n",
       "    <tr style=\"text-align: right;\">\n",
       "      <th></th>\n",
       "      <th>column</th>\n",
       "      <th>importance</th>\n",
       "    </tr>\n",
       "  </thead>\n",
       "  <tbody>\n",
       "    <tr>\n",
       "      <th>0</th>\n",
       "      <td>comments_subjectivity</td>\n",
       "      <td>0.756091</td>\n",
       "    </tr>\n",
       "    <tr>\n",
       "      <th>1</th>\n",
       "      <td>comments_polarity</td>\n",
       "      <td>0.082117</td>\n",
       "    </tr>\n",
       "    <tr>\n",
       "      <th>2</th>\n",
       "      <td>date</td>\n",
       "      <td>0.056464</td>\n",
       "    </tr>\n",
       "    <tr>\n",
       "      <th>3</th>\n",
       "      <td>notes_polarity</td>\n",
       "      <td>0.028197</td>\n",
       "    </tr>\n",
       "    <tr>\n",
       "      <th>4</th>\n",
       "      <td>Latitude</td>\n",
       "      <td>0.027964</td>\n",
       "    </tr>\n",
       "    <tr>\n",
       "      <th>5</th>\n",
       "      <td>notes_subjectivity</td>\n",
       "      <td>0.026464</td>\n",
       "    </tr>\n",
       "    <tr>\n",
       "      <th>6</th>\n",
       "      <td>Longitude</td>\n",
       "      <td>0.022704</td>\n",
       "    </tr>\n",
       "  </tbody>\n",
       "</table>\n",
       "</div>"
      ],
      "text/plain": [
       "                  column  importance\n",
       "0  comments_subjectivity    0.756091\n",
       "1      comments_polarity    0.082117\n",
       "2                   date    0.056464\n",
       "3         notes_polarity    0.028197\n",
       "4               Latitude    0.027964\n",
       "5     notes_subjectivity    0.026464\n",
       "6              Longitude    0.022704"
      ]
     },
     "execution_count": 166,
     "metadata": {},
     "output_type": "execute_result"
    }
   ],
   "source": [
    "df_importance = pd.concat(df_importance_list)\n",
    "df_importance = df_importance.groupby(['column'])['importance'].agg(\n",
    "    'mean').sort_values(ascending=False).reset_index()\n",
    "df_importance"
   ]
  },
  {
   "cell_type": "code",
   "execution_count": 167,
   "metadata": {
    "ExecuteTime": {
     "end_time": "2020-04-01T12:19:54.344228Z",
     "start_time": "2020-04-01T12:19:53.867796Z"
    }
   },
   "outputs": [],
   "source": [
    "df_oof = pd.concat(oof)\n",
    "df_oof[ycol] = np.expm1(df_oof[ycol])\n",
    "df_oof['label'] = np.expm1(df_oof['label'])\n",
    "# df_oof.to_csv('xgb_oof.csv'.format(mae), index=False, encoding='utf-8')"
   ]
  },
  {
   "cell_type": "code",
   "execution_count": 168,
   "metadata": {
    "ExecuteTime": {
     "end_time": "2020-04-01T12:19:54.618364Z",
     "start_time": "2020-04-01T12:19:54.345642Z"
    }
   },
   "outputs": [],
   "source": [
    "prediction['label'] = np.expm1(prediction['label'])\n",
    "sub = prediction.copy(deep=True)\n",
    "sub.to_csv('res.csv', index=False, encoding='utf-8')"
   ]
  },
  {
   "cell_type": "code",
   "execution_count": 169,
   "metadata": {
    "ExecuteTime": {
     "end_time": "2020-04-01T12:19:54.625279Z",
     "start_time": "2020-04-01T12:19:54.619753Z"
    }
   },
   "outputs": [
    {
     "data": {
      "text/html": [
       "<div>\n",
       "<style scoped>\n",
       "    .dataframe tbody tr th:only-of-type {\n",
       "        vertical-align: middle;\n",
       "    }\n",
       "\n",
       "    .dataframe tbody tr th {\n",
       "        vertical-align: top;\n",
       "    }\n",
       "\n",
       "    .dataframe thead th {\n",
       "        text-align: right;\n",
       "    }\n",
       "</style>\n",
       "<table border=\"1\" class=\"dataframe\">\n",
       "  <thead>\n",
       "    <tr style=\"text-align: right;\">\n",
       "      <th></th>\n",
       "      <th>date</th>\n",
       "      <th>Latitude</th>\n",
       "      <th>Longitude</th>\n",
       "      <th>notes_polarity</th>\n",
       "      <th>notes_subjectivity</th>\n",
       "      <th>comments_polarity</th>\n",
       "      <th>comments_subjectivity</th>\n",
       "      <th>label</th>\n",
       "    </tr>\n",
       "  </thead>\n",
       "  <tbody>\n",
       "    <tr>\n",
       "      <th>4</th>\n",
       "      <td>205</td>\n",
       "      <td>47.933480</td>\n",
       "      <td>-119.035910</td>\n",
       "      <td>0.000000</td>\n",
       "      <td>0.000000</td>\n",
       "      <td>0.0</td>\n",
       "      <td>0.0</td>\n",
       "      <td>1.718282</td>\n",
       "    </tr>\n",
       "    <tr>\n",
       "      <th>5</th>\n",
       "      <td>131</td>\n",
       "      <td>47.091118</td>\n",
       "      <td>-122.682562</td>\n",
       "      <td>0.371429</td>\n",
       "      <td>0.542857</td>\n",
       "      <td>0.0</td>\n",
       "      <td>0.5</td>\n",
       "      <td>2.320117</td>\n",
       "    </tr>\n",
       "    <tr>\n",
       "      <th>12</th>\n",
       "      <td>129</td>\n",
       "      <td>47.685672</td>\n",
       "      <td>-122.386464</td>\n",
       "      <td>-0.200000</td>\n",
       "      <td>0.000000</td>\n",
       "      <td>0.0</td>\n",
       "      <td>0.0</td>\n",
       "      <td>1.718282</td>\n",
       "    </tr>\n",
       "    <tr>\n",
       "      <th>63</th>\n",
       "      <td>129</td>\n",
       "      <td>48.767306</td>\n",
       "      <td>-122.448930</td>\n",
       "      <td>-0.225000</td>\n",
       "      <td>0.444444</td>\n",
       "      <td>0.0</td>\n",
       "      <td>0.0</td>\n",
       "      <td>1.718282</td>\n",
       "    </tr>\n",
       "    <tr>\n",
       "      <th>64</th>\n",
       "      <td>121</td>\n",
       "      <td>47.581661</td>\n",
       "      <td>-121.987410</td>\n",
       "      <td>-0.097222</td>\n",
       "      <td>0.338889</td>\n",
       "      <td>0.0</td>\n",
       "      <td>0.0</td>\n",
       "      <td>1.718282</td>\n",
       "    </tr>\n",
       "  </tbody>\n",
       "</table>\n",
       "</div>"
      ],
      "text/plain": [
       "    date   Latitude   Longitude  notes_polarity  notes_subjectivity  \\\n",
       "4    205  47.933480 -119.035910        0.000000            0.000000   \n",
       "5    131  47.091118 -122.682562        0.371429            0.542857   \n",
       "12   129  47.685672 -122.386464       -0.200000            0.000000   \n",
       "63   129  48.767306 -122.448930       -0.225000            0.444444   \n",
       "64   121  47.581661 -121.987410       -0.097222            0.338889   \n",
       "\n",
       "    comments_polarity  comments_subjectivity     label  \n",
       "4                 0.0                    0.0  1.718282  \n",
       "5                 0.0                    0.5  2.320117  \n",
       "12                0.0                    0.0  1.718282  \n",
       "63                0.0                    0.0  1.718282  \n",
       "64                0.0                    0.0  1.718282  "
      ]
     },
     "execution_count": 169,
     "metadata": {},
     "output_type": "execute_result"
    }
   ],
   "source": [
    "sub.head()"
   ]
  },
  {
   "cell_type": "code",
   "execution_count": null,
   "metadata": {},
   "outputs": [],
   "source": []
  }
 ],
 "metadata": {
  "interpreter": {
   "hash": "48108b9a5c33d116ad41a11d4f2f7b666582b63ab9c08aaa7e11c5572f9bf979"
  },
  "kernelspec": {
   "display_name": "Python [conda env:dm] *",
   "language": "python",
   "name": "python3"
  },
  "language_info": {
   "codemirror_mode": {
    "name": "ipython",
    "version": 3
   },
   "file_extension": ".py",
   "mimetype": "text/x-python",
   "name": "python",
   "nbconvert_exporter": "python",
   "pygments_lexer": "ipython3",
   "version": "3.9.7"
  }
 },
 "nbformat": 4,
 "nbformat_minor": 2
}
